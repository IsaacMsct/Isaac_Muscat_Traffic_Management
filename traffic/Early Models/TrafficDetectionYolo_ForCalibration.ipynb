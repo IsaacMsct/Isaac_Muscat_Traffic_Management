{
 "cells": [
  {
   "cell_type": "code",
   "execution_count": 1,
   "metadata": {},
   "outputs": [
    {
     "name": "stdout",
     "output_type": "stream",
     "text": [
      "Downloading https://github.com/ultralytics/assets/releases/download/v8.1.0/yolov8n.pt to 'yolov8n.pt'...\n"
     ]
    },
    {
     "name": "stderr",
     "output_type": "stream",
     "text": [
      "100%|██████████| 6.23M/6.23M [00:00<00:00, 7.50MB/s]\n"
     ]
    },
    {
     "name": "stdout",
     "output_type": "stream",
     "text": [
      "Vehicle ID 22 (Calibration Vehicle) was not detected or did not cross the line.\n"
     ]
    }
   ],
   "source": [
    "import sys\n",
    "sys.path.append(\"..\")\n",
    "import cv2\n",
    "from ultralytics import YOLO\n",
    "from tracker import *\n",
    "import time\n",
    "\n",
    "model = YOLO('yolov8n.pt')\n",
    "\n",
    "def RGB(event, x, y, flags, param):\n",
    "    if event == cv2.EVENT_MOUSEMOVE:  \n",
    "        colorsBGR = [x, y]\n",
    "        \n",
    "cv2.namedWindow('RGB')\n",
    "cv2.setMouseCallback('RGB', RGB)\n",
    "\n",
    "cap = cv2.VideoCapture('micra50kmhup.mp4')\n",
    "my_file = open(\"coco.txt\", \"r\")\n",
    "data = my_file.read()\n",
    "class_list = data.split(\"\\n\") \n",
    "\n",
    "count = 0\n",
    "tracker = Tracker()\n",
    "\n",
    "cy1 = 390  \n",
    "cy2 = 440  \n",
    "offset = 6\n",
    "vh_up = {}\n",
    "vh_up_speed = {}\n",
    "counter1 = []\n",
    "calibration_value = 0.6\n",
    "speed_of_vehicle_22 = None  # Variable to store the speed of vehicle ID 22\n",
    "\n",
    "while True:    \n",
    "    ret, frame = cap.read()\n",
    "    if not ret:\n",
    "        break\n",
    "    count += 1\n",
    "    if count % 3 != 0:\n",
    "        continue\n",
    "    frame = cv2.resize(frame, (1020, 500))\n",
    "\n",
    "    results = model.predict(frame)\n",
    "    list = []\n",
    "    if results:  \n",
    "        for detection in results[0].boxes:\n",
    "            xyxy = detection.xyxy[0].tolist()\n",
    "            class_id = int(detection.cls[0].item())\n",
    "            c = class_list[class_id]\n",
    "            if 'car' in c:\n",
    "                list.append(xyxy[:4])\n",
    "        bbox_id = tracker.update(list)\n",
    "\n",
    "        for bbox in bbox_id:\n",
    "            if len(bbox) >= 5:\n",
    "                x3, y3, x4, y4, id = bbox\n",
    "                x3, y3, x4, y4 = map(int, bbox[:4])\n",
    "                cv2.rectangle(frame, (x3, y3), (x4, y4), (0, 0, 255), 2)\n",
    "                cv2.putText(frame, str(id), (x3, y3 - 10), cv2.FONT_HERSHEY_COMPLEX, 0.6, (255, 255, 255), 2)\n",
    "\n",
    "                cx = (x3 + x4) // 2\n",
    "                cy = (y3 + y4) // 2\n",
    "\n",
    "                if cy2 < (cy + offset) and cy2 > (cy - offset):\n",
    "                    vh_up[id] = time.time()\n",
    "                if id in vh_up and cy1 < (cy + offset) and cy1 > (cy - offset):\n",
    "                    if id == 22:  # Only for vehicle ID 22\n",
    "                        elapsed1_time = time.time() - vh_up[id]\n",
    "                        if elapsed1_time > 0 and id not in counter1:\n",
    "                            counter1.append(id)      \n",
    "                            distance1 = 20 * calibration_value\n",
    "                            a_speed_ms1 = distance1 / elapsed1_time\n",
    "                            a_speed_kh1 = a_speed_ms1 * 3.6\n",
    "                            vh_up_speed[id] = a_speed_kh1\n",
    "                            speed_of_vehicle_22 = a_speed_kh1\n",
    "\n",
    "    cv2.line(frame, (240, cy1), (1000, cy1), (255, 255, 255), 1)\n",
    "    cv2.putText(frame, ('L1'), (277, 320), cv2.FONT_HERSHEY_COMPLEX, 0.8, (0, 255, 255), 2)\n",
    "    cv2.line(frame, (300, cy2), (1100, cy2), (255, 255, 255), 1)\n",
    "    cv2.putText(frame, ('L2'), (300, 367), cv2.FONT_HERSHEY_COMPLEX, 0.8, (0, 255, 255), 2)\n",
    "\n",
    "    cv2.imshow(\"RGB\", frame)\n",
    "    if cv2.waitKey(1) & 0xFF == 27:\n",
    "        break\n",
    "\n",
    "cap.release()\n",
    "cv2.destroyAllWindows()\n",
    "\n",
    "# Print the speed of vehicle ID 22 at the end\n",
    "if speed_of_vehicle_22 is not None:\n",
    "    print(f\"Final speed of vehicle ID 22 (Calibration Vehicle) : {speed_of_vehicle_22:.2f} Km/h\")\n",
    "else:\n",
    "    print(\"Vehicle ID 22 (Calibration Vehicle) was not detected or did not cross the line.\")\n"
   ]
  }
 ],
 "metadata": {
  "kernelspec": {
   "display_name": "TrafficDetection",
   "language": "python",
   "name": "python3"
  },
  "language_info": {
   "codemirror_mode": {
    "name": "ipython",
    "version": 3
   },
   "file_extension": ".py",
   "mimetype": "text/x-python",
   "name": "python",
   "nbconvert_exporter": "python",
   "pygments_lexer": "ipython3",
   "version": "3.9.13"
  }
 },
 "nbformat": 4,
 "nbformat_minor": 2
}
